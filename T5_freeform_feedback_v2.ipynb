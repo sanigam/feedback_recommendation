{
 "cells": [
  {
   "cell_type": "code",
   "execution_count": 1,
   "metadata": {},
   "outputs": [],
   "source": [
    "#!pip install simpletransformers\n",
    "#!pip install transformers ==3.0.2 \n",
    "#!pip install torch\n",
    "#Loading libraries\n",
    "import torch\n",
    "from simpletransformers.t5 import T5Model\n",
    "import pandas as pd"
   ]
  },
  {
   "cell_type": "code",
   "execution_count": 2,
   "metadata": {},
   "outputs": [],
   "source": [
    "#Loading trainiing data \n",
    "#This has this will have 5 columns 1) annotation, 2) student_note , 3) teacher_feedback 4) phrases  & 5) score  \n",
    "#score column is for reference and it is not used for BERT or T5 trainining\n",
    "# teacher_feedback column is used for T5 model traiining while phrases column is used for BERT model\n",
    "df_train = pd.read_csv('train_data.csv')\n",
    "prefix = 'x: '\n",
    "df_train['prefix'] = prefix\n",
    "df_train['input_text'] = 'Annotation: ' + df_train['annotation'] + 'Note: '+ df_train['student_note']\n",
    "df_train['target_text'] = df_train['teacher_feedback']\n",
    "df_train1 = df_train[['prefix', 'input_text', 'target_text']]\n",
    "df_train1.shape\n",
    "#Data for testing. same columns as df_train\n",
    "df_test = pd.read_csv('test_data.csv') "
   ]
  },
  {
   "cell_type": "code",
   "execution_count": 5,
   "metadata": {},
   "outputs": [],
   "source": [
    "#Defining T5 model\n",
    "model = T5Model( \"t5\",\"t5-base\")\n",
    "model_args = {\n",
    "    \"max_seq_length\": 256,\n",
    "    \"train_batch_size\": 16,\n",
    "    \"eval_batch_size\": 64,\n",
    "    \"num_train_epochs\": 3,\n",
    "    #\"evaluate_during_training\": True,\n",
    "    \"evaluate_during_training_steps\": 15000,\n",
    "    \"evaluate_during_training_verbose\": True,\n",
    "    \n",
    "    \"use_multiprocessing\": False,\n",
    "    \"fp16\": False,\n",
    "\n",
    "    \"save_steps\": -1,\n",
    "    \"save_eval_checkpoints\": False,\n",
    "    \"save_model_every_epoch\": False,\n",
    "\n",
    "    \"reprocess_input_data\": True,\n",
    "    \"overwrite_output_dir\": True,\n",
    "    'n_gpu': 2,\n",
    "    'process_count': 25,\n",
    "    'model_name':\"t5-base\",\n",
    "    'truncation': False,\n",
    "    \"model_max_length\": 512,\n",
    "}\n"
   ]
  },
  {
   "cell_type": "code",
   "execution_count": 6,
   "metadata": {},
   "outputs": [
    {
     "data": {
      "application/vnd.jupyter.widget-view+json": {
       "model_id": "82f1407d093b4a48af01d358c06c19b8",
       "version_major": 2,
       "version_minor": 0
      },
      "text/plain": [
       "  0%|          | 0/40324 [00:00<?, ?it/s]"
      ]
     },
     "metadata": {},
     "output_type": "display_data"
    },
    {
     "data": {
      "application/vnd.jupyter.widget-view+json": {
       "model_id": "32d76a476c864ed3a8fd3f49ad5d7c9c",
       "version_major": 2,
       "version_minor": 0
      },
      "text/plain": [
       "Epoch:   0%|          | 0/3 [00:00<?, ?it/s]"
      ]
     },
     "metadata": {},
     "output_type": "display_data"
    },
    {
     "data": {
      "application/vnd.jupyter.widget-view+json": {
       "model_id": "9876cd7b17b541e89e7ffef5ce3809a7",
       "version_major": 2,
       "version_minor": 0
      },
      "text/plain": [
       "Running Epoch 0 of 3:   0%|          | 0/2521 [00:00<?, ?it/s]"
      ]
     },
     "metadata": {},
     "output_type": "display_data"
    },
    {
     "name": "stderr",
     "output_type": "stream",
     "text": [
      "/opt/conda/lib/python3.7/site-packages/torch/nn/parallel/_functions.py:68: UserWarning: Was asked to gather along dimension 0, but all input tensors were scalars; will instead unsqueeze and return a vector.\n",
      "  warnings.warn('Was asked to gather along dimension 0, but all '\n"
     ]
    },
    {
     "data": {
      "application/vnd.jupyter.widget-view+json": {
       "model_id": "a61f469852c04dfebbde8c17b0db8e23",
       "version_major": 2,
       "version_minor": 0
      },
      "text/plain": [
       "Running Epoch 1 of 3:   0%|          | 0/2521 [00:00<?, ?it/s]"
      ]
     },
     "metadata": {},
     "output_type": "display_data"
    },
    {
     "data": {
      "application/vnd.jupyter.widget-view+json": {
       "model_id": "a01244e80105416bbba7fe3a1f9157f0",
       "version_major": 2,
       "version_minor": 0
      },
      "text/plain": [
       "Running Epoch 2 of 3:   0%|          | 0/2521 [00:00<?, ?it/s]"
      ]
     },
     "metadata": {},
     "output_type": "display_data"
    },
    {
     "data": {
      "text/plain": [
       "(7563, 2.601373496894781)"
      ]
     },
     "execution_count": 6,
     "metadata": {},
     "output_type": "execute_result"
    }
   ],
   "source": [
    "#Fine-tuning (Training) T5 model\n",
    "model.train_model (df_train1,  args=model_args)\n"
   ]
  },
  {
   "cell_type": "code",
   "execution_count": 7,
   "metadata": {},
   "outputs": [
    {
     "data": {
      "text/plain": [
       "('./t5_feedback_gen/tokenizer_config.json',\n",
       " './t5_feedback_gen/special_tokens_map.json',\n",
       " './t5_feedback_gen/spiece.model',\n",
       " './t5_feedback_gen/added_tokens.json')"
      ]
     },
     "execution_count": 7,
     "metadata": {},
     "output_type": "execute_result"
    }
   ],
   "source": [
    "#Saving T5 model to disk\n",
    "model.model.save_pretrained('./t5_feedback_gen')\n",
    "model.tokenizer.save_pretrained('./t5_feedback_gen')"
   ]
  },
  {
   "cell_type": "code",
   "execution_count": 8,
   "metadata": {},
   "outputs": [],
   "source": [
    "#Loading T5 model for inference\n",
    "model = T5Model(\"t5\", './t5_feedback_gen')\n"
   ]
  },
  {
   "cell_type": "code",
   "execution_count": 9,
   "metadata": {
    "tags": []
   },
   "outputs": [
    {
     "data": {
      "application/vnd.jupyter.widget-view+json": {
       "model_id": "f186b146c9dd490c9f6625f3f7354ef1",
       "version_major": 2,
       "version_minor": 0
      },
      "text/plain": [
       "Generating outputs:   0%|          | 0/1 [00:00<?, ?it/s]"
      ]
     },
     "metadata": {},
     "output_type": "display_data"
    },
    {
     "data": {
      "application/vnd.jupyter.widget-view+json": {
       "model_id": "e4ea3fe928ec4ce9b4c43a16470bca81",
       "version_major": 2,
       "version_minor": 0
      },
      "text/plain": [
       "Decoding outputs:   0%|          | 0/1 [00:00<?, ?it/s]"
      ]
     },
     "metadata": {},
     "output_type": "display_data"
    },
    {
     "name": "stdout",
     "output_type": "stream",
     "text": [
      "Feedback Generated From T5:  ['What kinds of poetic elements and figurative language do you see?']\n"
     ]
    }
   ],
   "source": [
    "annotation = \"night was dark. The wind blew.\" \n",
    "student_note = \"there are 13 stanzas \"\n",
    "prefix = 'x: '\n",
    "text =  prefix + 'Annotation: ' + annotation + 'Note: ' + student_note\n",
    "print(\"Feedback Generated From T5: \", model.predict([text]) )\n",
    "\n"
   ]
  },
  {
   "cell_type": "code",
   "execution_count": 10,
   "metadata": {},
   "outputs": [
    {
     "data": {
      "application/vnd.jupyter.widget-view+json": {
       "model_id": "3976f1dbcf4647a4964bfa299363308d",
       "version_major": 2,
       "version_minor": 0
      },
      "text/plain": [
       "Generating outputs:   0%|          | 0/1 [00:00<?, ?it/s]"
      ]
     },
     "metadata": {},
     "output_type": "display_data"
    },
    {
     "data": {
      "application/vnd.jupyter.widget-view+json": {
       "model_id": "55369bfb2cce42929a709800e3152f98",
       "version_major": 2,
       "version_minor": 0
      },
      "text/plain": [
       "Decoding outputs:   0%|          | 0/1 [00:00<?, ?it/s]"
      ]
     },
     "metadata": {},
     "output_type": "display_data"
    },
    {
     "name": "stdout",
     "output_type": "stream",
     "text": [
      "Feedback Generated From T5:  ['Yes, this is why banks are regulated now.']\n"
     ]
    }
   ],
   "source": [
    "annotation = \"banks had very few rules about loaning out money.\" \n",
    "student_note = \"Seems like the banks should have done something sooner\"\n",
    "prefix = 'x: '\n",
    "text =  prefix + 'Annotation: ' + annotation + 'Note: ' + student_note\n",
    "print(\"Feedback Generated From T5: \", model.predict([text]) )\n"
   ]
  },
  {
   "cell_type": "code",
   "execution_count": 11,
   "metadata": {},
   "outputs": [
    {
     "data": {
      "application/vnd.jupyter.widget-view+json": {
       "model_id": "70d023ad8ca24d13a383e39a1a09b668",
       "version_major": 2,
       "version_minor": 0
      },
      "text/plain": [
       "Generating outputs:   0%|          | 0/1 [00:00<?, ?it/s]"
      ]
     },
     "metadata": {},
     "output_type": "display_data"
    },
    {
     "data": {
      "application/vnd.jupyter.widget-view+json": {
       "model_id": "4f626d837cb841a58955cd7ccd710e71",
       "version_major": 2,
       "version_minor": 0
      },
      "text/plain": [
       "Decoding outputs:   0%|          | 0/1 [00:00<?, ?it/s]"
      ]
     },
     "metadata": {},
     "output_type": "display_data"
    },
    {
     "name": "stdout",
     "output_type": "stream",
     "text": [
      "Feedback Generated From T5:  ['Yes, she is.']\n"
     ]
    }
   ],
   "source": [
    "annotation = \"He was heart-broken.\" \n",
    "student_note = \"She is so caught up in trying to fit in she never realizes how she is hurting her husband.\"\n",
    "prefix = 'x: '\n",
    "text =  prefix + 'Annotation: ' + annotation + 'Note: ' + student_note\n",
    "print(\"Feedback Generated From T5: \", model.predict([text]) )"
   ]
  },
  {
   "cell_type": "code",
   "execution_count": null,
   "metadata": {},
   "outputs": [],
   "source": []
  }
 ],
 "metadata": {
  "environment": {
   "name": "common-cu110.m87",
   "type": "gcloud",
   "uri": "gcr.io/deeplearning-platform-release/base-cu110:m87"
  },
  "kernelspec": {
   "display_name": "Python 3",
   "language": "python",
   "name": "python3"
  },
  "language_info": {
   "codemirror_mode": {
    "name": "ipython",
    "version": 3
   },
   "file_extension": ".py",
   "mimetype": "text/x-python",
   "name": "python",
   "nbconvert_exporter": "python",
   "pygments_lexer": "ipython3",
   "version": "3.7.12"
  }
 },
 "nbformat": 4,
 "nbformat_minor": 4
}
