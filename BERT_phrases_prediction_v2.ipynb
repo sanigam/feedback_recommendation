{
 "cells": [
  {
   "cell_type": "code",
   "execution_count": 1,
   "metadata": {},
   "outputs": [
    {
     "name": "stdout",
     "output_type": "stream",
     "text": [
      "Tensorflow Version: 2.9.1\n"
     ]
    }
   ],
   "source": [
    "#Ref: Code from https://medium.com/analytics-vidhya/introduction-to-bert-f9aa4075cf4f used here\n",
    "#Install following libraries before first run. For subsequent runs, you may comment these\n",
    "# !pip install tensorflow_hub\n",
    "# !pip install bert-for-tf2\n",
    "# !pip install sentencepiece\n",
    "#!pip install tensorflow-gpu\n",
    "\n",
    "#Importing Required libraries\n",
    "import re\n",
    "import numpy as np\n",
    "import pandas as pd\n",
    "import tensorflow as tf\n",
    "from tensorflow.keras.layers import Dense, Input, Dropout\n",
    "from tensorflow.keras.optimizers import Adam\n",
    "from tensorflow.keras.models import Model\n",
    "from tensorflow.keras.models import load_model\n",
    "from tensorflow.keras.callbacks import ModelCheckpoint\n",
    "import tensorflow_hub as hub\n",
    "from bert import bert_tokenization\n",
    "from sklearn.model_selection import train_test_split\n",
    "from sklearn.metrics import accuracy_score\n",
    "from sklearn import preprocessing\n",
    "import matplotlib.pyplot as plt\n",
    "import pickle\n",
    "#Tensorflow version\n",
    "print(\"Tensorflow Version:\", tf.__version__)\n",
    "pd.options.mode.chained_assignment = None"
   ]
  },
  {
   "cell_type": "code",
   "execution_count": 2,
   "metadata": {},
   "outputs": [],
   "source": [
    "#Loading Data\n",
    "df = pd.read_csv('./data_with_mapped_phrases.csv') \n",
    "#This has this will have 5 columns 1) annotation, 2) student_note , 3) teacher_feedback 4) phrases  & 5) score , \n",
    "#score column is for reference and it is not used for BERT or T5 trainining\n",
    "# teacher_feedback column is used for T5 model traiining while phrases column is used for BERT model\n",
    "#print ( f'Data Shape: {df.shape} ') #Number of rows and column in data-frame\n"
   ]
  },
  {
   "cell_type": "code",
   "execution_count": 3,
   "metadata": {},
   "outputs": [
    {
     "name": "stdout",
     "output_type": "stream",
     "text": [
      "Data Shape: (66317, 9) \n",
      "Data Shape: (59609, 9) \n",
      "Data Shape: (59609, 9) \n",
      "Data Shape: (59602, 9) \n",
      "Data Shape: (50981, 9) \n",
      "Data Shape: (50689, 9) \n",
      "Data Shape: (50406, 9) \n",
      "Data Shape: (50406, 9) \n"
     ]
    }
   ],
   "source": [
    "#Data cleaning\n",
    "df = df[df['student_note'].notnull()]\n",
    "print ( f'Data Shape: {df.shape} ') \n",
    "df = df[df['annotation'].notnull()]\n",
    "print ( f'Data Shape: {df.shape} ') \n",
    "df = df[df['teacher_feedback'].notnull()]\n",
    "print ( f'Data Shape: {df.shape} ') \n",
    "df = df[df.student_note != 'note' ]\n",
    "print ( f'Data Shape: {df.shape} ')\n",
    "\n",
    "df['annotation'] = df['annotation'].str.strip()\n",
    "df['student_note'] = df['student_note'].str.strip()\n",
    "\n",
    "df = df [df['annotation'].str.len() > 3]\n",
    "print ( f'Data Shape: {df.shape} ')\n",
    "df = df [df['student_note'].str.len() > 3]\n",
    "print ( f'Data Shape: {df.shape} ')\n",
    "\n",
    "df = df.drop_duplicates(subset=['annotation', 'student_note'])\n",
    "print ( f'Data Shape: {df.shape} ') \n",
    "print ( f'Data Shape: {df.shape} ')"
   ]
  },
  {
   "cell_type": "code",
   "execution_count": null,
   "metadata": {},
   "outputs": [],
   "source": [
    "#Looking into data, cleared output so as not to expose data\n",
    "display(df.sample(2)) #Sample rows of dataframe\n",
    "\n",
    "df['phrases'].value_counts(normalize=True) "
   ]
  },
  {
   "cell_type": "code",
   "execution_count": 5,
   "metadata": {},
   "outputs": [
    {
     "name": "stdout",
     "output_type": "stream",
     "text": [
      "Training Data Shape: (40324, 9)  ,  Test Data Shape:  (10082, 9)\n"
     ]
    }
   ],
   "source": [
    "# Splitting data into test and training. This is used for training/testing BERT as well as T5 model\n",
    "df_train, df_test = train_test_split( df , test_size=0.2, random_state=42)\n",
    "\n",
    "print( f'Training Data Shape: {df_train.shape}  ,  Test Data Shape:  {df_test.shape}') # Rows/Cols in train/test data\n",
    "\n",
    "df_train.to_csv ('train_data.csv' , index=False)\n",
    "df_test.to_csv ('test_data.csv' , index=False)"
   ]
  },
  {
   "cell_type": "code",
   "execution_count": 14,
   "metadata": {},
   "outputs": [
    {
     "name": "stdout",
     "output_type": "stream",
     "text": [
      "\n",
      "Length of vocab in our tokenizer :  30522\n"
     ]
    }
   ],
   "source": [
    "#Loading BERT Standard model (Pretrained Model on Wikipedia and Book Corpus)\n",
    "bert_layer = hub.KerasLayer(\"https://tfhub.dev/tensorflow/bert_en_uncased_L-12_H-768_A-12/1\",trainable=True, name = 'keras_bert_layer' )\n",
    "\n",
    "#Getting vocab file from bert layer\n",
    "vocab_file = bert_layer.resolved_object.vocab_file.asset_path.numpy() \n",
    "\n",
    "do_lower_case = True  # For uncased model it will True \n",
    "\n",
    "#Defining tokenizer object which will be used to tokenize text before feeding to bert\n",
    "tokenizer_for_bert = bert_tokenization.FullTokenizer(vocab_file, do_lower_case) #Tokenizer to tokenize input text\n",
    "\n",
    "print ( '\\nLength of vocab in our tokenizer : ' , len(tokenizer_for_bert.vocab) ) #BERT vocab has around 30K words"
   ]
  },
  {
   "cell_type": "code",
   "execution_count": 15,
   "metadata": {},
   "outputs": [
    {
     "name": "stdout",
     "output_type": "stream",
     "text": [
      "Test text after encoding:  (array([[  101,  5754, 17287,  3508,  1024,  6160,  2000,  2691, 15909,\n",
      "         2622,   102,     0]]), array([[1, 1, 1, 1, 1, 1, 1, 1, 1, 1, 1, 0]]), array([[0, 0, 0, 0, 0, 0, 0, 0, 0, 0, 0, 0]]))\n"
     ]
    }
   ],
   "source": [
    "#Function to encode text in format to feed to BERT\n",
    "\n",
    "def encode_text_for_bert2 (texts, tokenizer_for_bert, max_len=512):\n",
    "    ''' This function is to encode data for inputting into BERT model\n",
    "    Parameters:\n",
    "    texts - List of texts to encode\n",
    "    tokenizer_for_bert - Tokenizer to be used to convert text into tokens\n",
    "    max_len - Maximum length of text. It can have maximum value as 512\n",
    "    Return: Tupple of 3 numpy arrays \n",
    "    1) Token Ids padded with 0s to make length as max_len.  \n",
    "    2) Array where we have 1 for actual tokens and 0 for padding tokens\n",
    "    3) Array of 0s to indicate that token belongs to 1st sentence (chunk of text). There is no 2nd sentence here.\n",
    "    '''\n",
    "    all_token_ids = []\n",
    "    all_masks = []\n",
    "    all_segments = []\n",
    "    \n",
    "    for text in texts:\n",
    "        [text1, text2] = text.split(' Student Note: ')[:2]\n",
    "        text1 = text1.strip()\n",
    "        text2 = text2.strip()\n",
    "        \n",
    "        tokens = tokenizer_for_bert.tokenize(text1) + [\"[SEP]\"] +  tokenizer_for_bert.tokenize(text2)\n",
    "            \n",
    "        tokens = tokens[:max_len-3] # Truncating number of tokens to max_len -3, Reduced extra 3 to add special tokens\n",
    "        \n",
    "        input_sequence = [\"[CLS]\"] + tokens + [\"[SEP]\"]  # [CLS] and [SEP] are special tokens to be added into input text\n",
    "        \n",
    "        pad_len = max_len - len(input_sequence) # Spaces to fill with 0s to make each sequence equal to max_len\n",
    "        \n",
    "        token_ids = tokenizer_for_bert.convert_tokens_to_ids(input_sequence)   #Converting tokens to token ids \n",
    "       \n",
    "        token_ids += [0] * pad_len  #Padding token ids with 0s\n",
    "        \n",
    "        pad_masks = [1] * len(input_sequence) + [0] * pad_len # 1 where we have sentence tokens and 0 otherwise\n",
    "        \n",
    "        segment_ids = [0] * max_len # Segment ids are all 0 to indicate it is part of sentence 1. There is no sentence 2 here\n",
    "        \n",
    "        all_token_ids.append(token_ids)\n",
    "        all_masks.append(pad_masks)\n",
    "        all_segments.append(segment_ids)\n",
    "    \n",
    "    return np.array(all_token_ids), np.array(all_masks), np.array(all_segments)\n",
    "\n",
    "\n",
    "#Optional Step: This is just to understand input/output of function encode_text_for_bert\n",
    "test_text =  \"Annotation: Welcome to  CommonLit project, Student Note: Yes I agree \"\n",
    "\n",
    "print (\"Test text after encoding: \" ,encode_text_for_bert2 ( [test_text], tokenizer_for_bert, 12) ) # Pl Note id 101 is for token [CLS] and 102 for token [SEP]\n"
   ]
  },
  {
   "cell_type": "code",
   "execution_count": 16,
   "metadata": {},
   "outputs": [],
   "source": [
    "#Creating BERT  Model \n",
    "def bert_model_creation (bert_layer, max_len=512, model_type = 'Classification', num_classes = 2):\n",
    "    '''This function is to create BERT model for Classification or Regession Task\n",
    "    Parameters:\n",
    "    model_type = 'Classification' for classification task or 'Regression' for regression task. \n",
    "    num_classes = Number of classes in classification task. Value of 2 means binary classification. More than 2 for multiclass classification.\n",
    "                  For regression, num_classes parameter is ignored.\n",
    "    Return: Deep Learning Model\n",
    "    Important: You may add additional dense layers in place holder provided as \"***PLACEHOLDFER FOR ADDITIONAL LAYERS****\"\n",
    "    '''   \n",
    "    #Input to bert layer\n",
    "    input_word_ids = Input(shape=(max_len,), dtype=tf.int32, name=\"input_word_ids\")\n",
    "    input_mask = Input(shape=(max_len,), dtype=tf.int32, name=\"input_mask\")\n",
    "    segment_ids = Input(shape=(max_len,), dtype=tf.int32, name=\"segment_ids\")\n",
    "\n",
    "    #Output from bert layer\n",
    "    bert_layer_out = bert_layer([input_word_ids, input_mask, segment_ids]) # Python list of 2 tensors with shape (batch_size, 768) and (batch_size, max_len, 768)\n",
    "    \n",
    "    #Extrating Embedding for CLS token comming out of bert layer. Note CLS is the first token\n",
    "    cls_out = bert_layer_out[1][:,0,:] # Getting hidden-state of 1st tokens from second tensor in bert_layer_out, Tensor shape - (batch size, 768) \n",
    "    cls_out, _ = bert_layer_out  #Taking pooled output\n",
    "    \n",
    "    \n",
    "    #***PLACEHOLDFER FOR ADDITIONAL LAYERS****. \n",
    "    #Add more layers here if you want. See example below\n",
    "    cls_out = Dropout(.50) (cls_out)\n",
    "    cls_out = Dense(500, activation='relu')(cls_out) \n",
    "    \n",
    "    \n",
    "    \n",
    "    #Defines last layer depending on model type and  number of classes. Activation function is used depending on model_type and num_classes\n",
    "    if model_type == 'Classification' :\n",
    "        if num_classes == 2 :\n",
    "            out = Dense(1, activation='sigmoid')(cls_out)     # ** For Binary classification, use sigmoid activation\n",
    "        else:    \n",
    "            out = Dense(num_classes, activation='softmax')(cls_out) # For Multi Class classification, use softmax activation\n",
    "    else:\n",
    "        out = Dense(1, activation='linear')(cls_out)     # For regression, use linear activation\n",
    "    \n",
    "    #Model creation using inputs and output\n",
    "    model = Model(inputs=[input_word_ids, input_mask, segment_ids], outputs=out, name='deeplearning_bert__model')\n",
    "    \n",
    "    \n",
    "    \n",
    "    learning_rate = 2e-6 # modify learning rate,as needed\n",
    "    \n",
    "    #Compiles Model depending on model type and number of classes. Loss function as well as metrics is used accordingly\n",
    "    if model_type == 'Classification' :\n",
    "        if num_classes == 2 :\n",
    "            model.compile(Adam(learning_rate= learning_rate), loss='binary_crossentropy', metrics=['acc']) # ** For Binary classification\n",
    "        else:\n",
    "            model.compile(Adam(learning_rate= learning_rate), loss='sparse_categorical_crossentropy', metrics=['sparse_categorical_accuracy']) # For Multi Class classification \n",
    "    else:\n",
    "        model.compile(Adam(learning_rate= learning_rate), loss='mse', metrics=['mse']) # For Regression\n",
    "        \n",
    "    return model"
   ]
  },
  {
   "cell_type": "code",
   "execution_count": 17,
   "metadata": {},
   "outputs": [],
   "source": [
    "max_len = 256 #Max length of text input to model. It can go up to 512. Keeping it small to run it faster"
   ]
  },
  {
   "cell_type": "code",
   "execution_count": 18,
   "metadata": {},
   "outputs": [
    {
     "name": "stdout",
     "output_type": "stream",
     "text": [
      "Model: \"deeplearning_bert__model\"\n",
      "__________________________________________________________________________________________________\n",
      " Layer (type)                   Output Shape         Param #     Connected to                     \n",
      "==================================================================================================\n",
      " input_word_ids (InputLayer)    [(None, 256)]        0           []                               \n",
      "                                                                                                  \n",
      " input_mask (InputLayer)        [(None, 256)]        0           []                               \n",
      "                                                                                                  \n",
      " segment_ids (InputLayer)       [(None, 256)]        0           []                               \n",
      "                                                                                                  \n",
      " keras_bert_layer (KerasLayer)  [(None, 768),        109482241   ['input_word_ids[0][0]',         \n",
      "                                 (None, 256, 768)]                'input_mask[0][0]',             \n",
      "                                                                  'segment_ids[0][0]']            \n",
      "                                                                                                  \n",
      " dropout_2 (Dropout)            (None, 768)          0           ['keras_bert_layer[0][0]']       \n",
      "                                                                                                  \n",
      " dense_4 (Dense)                (None, 500)          384500      ['dropout_2[0][0]']              \n",
      "                                                                                                  \n",
      " dense_5 (Dense)                (None, 21)           10521       ['dense_4[0][0]']                \n",
      "                                                                                                  \n",
      "==================================================================================================\n",
      "Total params: 109,877,262\n",
      "Trainable params: 109,877,261\n",
      "Non-trainable params: 1\n",
      "__________________________________________________________________________________________________\n"
     ]
    }
   ],
   "source": [
    "#Building Classification Model\n",
    "#modify values of model_type and num_classes as per need\n",
    "model = bert_model_creation(bert_layer, max_len=max_len, model_type = 'Classification', num_classes = 21) #binary classification as num_classes = 2\n",
    "\n",
    "#Model Summary. Pl note, there are ~109 Million parameters as it is BERT standard model\n",
    "model.summary() "
   ]
  },
  {
   "cell_type": "code",
   "execution_count": 19,
   "metadata": {},
   "outputs": [],
   "source": [
    "#Encoding Training Data for BERT.  If you want  preprocessing/cleaning of input text, it should be done before this step\n",
    "train_input = encode_text_for_bert2((df_train['annotation']+ ' Student Note: ' + df_train['student_note']).values, tokenizer_for_bert, max_len= max_len)\n",
    "\n",
    "#Output variable  for multi-class classification \n",
    "le = preprocessing.LabelEncoder()\n",
    "y_train = df_train['phrases'].values \n",
    "y_train = le.fit_transform(y_train)\n",
    "\n",
    "filehandler = open(\"le.obj\",\"wb\")\n",
    "pickle.dump(le,filehandler)\n",
    "filehandler.close()"
   ]
  },
  {
   "cell_type": "code",
   "execution_count": 20,
   "metadata": {},
   "outputs": [],
   "source": [
    "#Optional step: Checking accuracy on train data before fine-tuning so that we can see improvement by fine tuning\n",
    "# predictions = model.predict(train_input)\n",
    "# accuracy_score (y_train,  np.argmax(predictions, axis = 1))"
   ]
  },
  {
   "cell_type": "code",
   "execution_count": 21,
   "metadata": {},
   "outputs": [
    {
     "name": "stdout",
     "output_type": "stream",
     "text": [
      "Epoch 1/5\n",
      "WARNING:tensorflow:AutoGraph could not transform <function Model.make_train_function.<locals>.train_function at 0x7f83582f3560> and will run it as-is.\n",
      "Please report this to the TensorFlow team. When filing the bug, set the verbosity to 10 (on Linux, `export AUTOGRAPH_VERBOSITY=10`) and attach the full output.\n",
      "Cause: 'arguments' object has no attribute 'posonlyargs'\n",
      "To silence this warning, decorate the function with @tf.autograph.experimental.do_not_convert\n"
     ]
    },
    {
     "name": "stderr",
     "output_type": "stream",
     "text": [
      "WARNING:tensorflow:AutoGraph could not transform <function Model.make_train_function.<locals>.train_function at 0x7f83582f3560> and will run it as-is.\n",
      "Please report this to the TensorFlow team. When filing the bug, set the verbosity to 10 (on Linux, `export AUTOGRAPH_VERBOSITY=10`) and attach the full output.\n",
      "Cause: 'arguments' object has no attribute 'posonlyargs'\n",
      "To silence this warning, decorate the function with @tf.autograph.experimental.do_not_convert\n"
     ]
    },
    {
     "name": "stdout",
     "output_type": "stream",
     "text": [
      "WARNING: AutoGraph could not transform <function Model.make_train_function.<locals>.train_function at 0x7f83582f3560> and will run it as-is.\n",
      "Please report this to the TensorFlow team. When filing the bug, set the verbosity to 10 (on Linux, `export AUTOGRAPH_VERBOSITY=10`) and attach the full output.\n",
      "Cause: 'arguments' object has no attribute 'posonlyargs'\n",
      "To silence this warning, decorate the function with @tf.autograph.experimental.do_not_convert\n",
      "1135/1135 [==============================] - ETA: 0s - loss: 2.6518 - sparse_categorical_accuracy: 0.2309WARNING:tensorflow:AutoGraph could not transform <function Model.make_test_function.<locals>.test_function at 0x7f84283baa70> and will run it as-is.\n",
      "Please report this to the TensorFlow team. When filing the bug, set the verbosity to 10 (on Linux, `export AUTOGRAPH_VERBOSITY=10`) and attach the full output.\n",
      "Cause: 'arguments' object has no attribute 'posonlyargs'\n",
      "To silence this warning, decorate the function with @tf.autograph.experimental.do_not_convert\n"
     ]
    },
    {
     "name": "stderr",
     "output_type": "stream",
     "text": [
      "WARNING:tensorflow:AutoGraph could not transform <function Model.make_test_function.<locals>.test_function at 0x7f84283baa70> and will run it as-is.\n",
      "Please report this to the TensorFlow team. When filing the bug, set the verbosity to 10 (on Linux, `export AUTOGRAPH_VERBOSITY=10`) and attach the full output.\n",
      "Cause: 'arguments' object has no attribute 'posonlyargs'\n",
      "To silence this warning, decorate the function with @tf.autograph.experimental.do_not_convert\n"
     ]
    },
    {
     "name": "stdout",
     "output_type": "stream",
     "text": [
      "WARNING: AutoGraph could not transform <function Model.make_test_function.<locals>.test_function at 0x7f84283baa70> and will run it as-is.\n",
      "Please report this to the TensorFlow team. When filing the bug, set the verbosity to 10 (on Linux, `export AUTOGRAPH_VERBOSITY=10`) and attach the full output.\n",
      "Cause: 'arguments' object has no attribute 'posonlyargs'\n",
      "To silence this warning, decorate the function with @tf.autograph.experimental.do_not_convert\n",
      "1135/1135 [==============================] - 1093s 948ms/step - loss: 2.6518 - sparse_categorical_accuracy: 0.2309 - val_loss: 2.4947 - val_sparse_categorical_accuracy: 0.2680\n",
      "Epoch 2/5\n",
      "1135/1135 [==============================] - 1074s 947ms/step - loss: 2.4978 - sparse_categorical_accuracy: 0.2566 - val_loss: 2.4342 - val_sparse_categorical_accuracy: 0.2700\n",
      "Epoch 3/5\n",
      "1135/1135 [==============================] - 1073s 946ms/step - loss: 2.4305 - sparse_categorical_accuracy: 0.2661 - val_loss: 2.3903 - val_sparse_categorical_accuracy: 0.2757\n",
      "Epoch 4/5\n",
      "1135/1135 [==============================] - 1075s 947ms/step - loss: 2.3590 - sparse_categorical_accuracy: 0.2820 - val_loss: 2.3587 - val_sparse_categorical_accuracy: 0.2859\n",
      "Epoch 5/5\n",
      "1135/1135 [==============================] - 1075s 947ms/step - loss: 2.2699 - sparse_categorical_accuracy: 0.3093 - val_loss: 2.3500 - val_sparse_categorical_accuracy: 0.2842\n"
     ]
    }
   ],
   "source": [
    "#Model Training (Fine-tuning for  classification) \n",
    "epochs = 5    #Modify as neded\n",
    "batch_size = 32  #Modify as needed\n",
    "train_history = model.fit(train_input, y_train ,  validation_split=0.10 , epochs= epochs,batch_size= batch_size, verbose=1)"
   ]
  },
  {
   "cell_type": "code",
   "execution_count": 22,
   "metadata": {},
   "outputs": [
    {
     "name": "stdout",
     "output_type": "stream",
     "text": [
      "dict_keys(['loss', 'sparse_categorical_accuracy', 'val_loss', 'val_sparse_categorical_accuracy'])\n"
     ]
    },
    {
     "data": {
      "image/png": "[encoded data removed]",
      "text/plain": [
       "<Figure size 432x288 with 1 Axes>"
      ]
     },
     "metadata": {
      "needs_background": "light"
     },
     "output_type": "display_data"
    }
   ],
   "source": [
    "print(train_history.history.keys())\n",
    "history = train_history.history\n",
    "# summarize history for accuracy\n",
    "plt.plot(history['sparse_categorical_accuracy'])\n",
    "plt.plot(history['val_sparse_categorical_accuracy'])\n",
    "plt.title('model accuracy')\n",
    "plt.ylabel('accuracy')\n",
    "plt.xlabel('epoch')\n",
    "plt.legend(['train', 'test'], loc='upper left')\n",
    "plt.show()\n"
   ]
  },
  {
   "cell_type": "code",
   "execution_count": 23,
   "metadata": {},
   "outputs": [],
   "source": [
    "#Checking accuracy on train \n",
    "# predictions = model.predict(train_input)\n",
    "# accuracy_score (y_train,  np.argmax(predictions, axis = 1))"
   ]
  },
  {
   "cell_type": "code",
   "execution_count": 24,
   "metadata": {},
   "outputs": [],
   "source": [
    "#Encoding test data into BERT Format. If you have  preprocessing/cleaning of input text, it should be done before this step\n",
    "test_input = encode_text_for_bert2((df_test['annotation'] + ' Student Note: ' + df_test['student_note']).values, tokenizer_for_bert, max_len= max_len)\n",
    "y_test = le.transform(df_test['phrases'].values )"
   ]
  },
  {
   "cell_type": "code",
   "execution_count": 35,
   "metadata": {},
   "outputs": [
    {
     "name": "stdout",
     "output_type": "stream",
     "text": [
      "316/316 [==============================] - 100s 318ms/step\n"
     ]
    },
    {
     "data": {
      "text/plain": [
       "0.29111287442967665"
      ]
     },
     "execution_count": 35,
     "metadata": {},
     "output_type": "execute_result"
    }
   ],
   "source": [
    "#Checking accuracy on test data. You may be able to improve it by taking bigger length of text, more epochs or by adding more dense layers into the model\n",
    "predictions = model.predict(test_input)\n",
    "accuracy_score (y_test,  np.argmax(predictions, axis = 1))"
   ]
  },
  {
   "cell_type": "code",
   "execution_count": 37,
   "metadata": {},
   "outputs": [],
   "source": [
    "#getting top 3 predictions\n",
    "top3 = predictions.argsort(axis = 1)[:, -3:]\n",
    "pred_top = le.inverse_transform(top3[:, -1])\n",
    "pred_top_2nd = le.inverse_transform(top3[:, -2])\n",
    "pred_top_3rd = le.inverse_transform(top3[:, -3])"
   ]
  },
  {
   "cell_type": "code",
   "execution_count": 38,
   "metadata": {},
   "outputs": [],
   "source": [
    "#Adding top 3 predictions to dataframe\n",
    "df_test['inferred_phrase_top'] = pred_top.tolist()\n",
    "df_test['inferred_phrase_top_2nd'] = pred_top_2nd.tolist()\n",
    "df_test['inferred_phrase_top_3rd'] = pred_top_3rd.tolist()"
   ]
  },
  {
   "cell_type": "code",
   "execution_count": 39,
   "metadata": {},
   "outputs": [],
   "source": [
    "df_test.to_csv('test_data.csv', index=False)"
   ]
  },
  {
   "cell_type": "code",
   "execution_count": null,
   "metadata": {},
   "outputs": [],
   "source": [
    "#Saving fine-tuned(trained) model to disk\n",
    "model.save('./bertmodel_feedback_prediction')\n"
   ]
  },
  {
   "cell_type": "code",
   "execution_count": 41,
   "metadata": {},
   "outputs": [],
   "source": [
    "# Loading model for inference\n",
    "model = load_model('./bertmodel_feedback_prediction')\n",
    "\n",
    "#Loading Label encoder\n",
    "file = open('le.obj', 'rb')\n",
    "le = pickle.load(file)\n",
    "file.close()"
   ]
  },
  {
   "cell_type": "code",
   "execution_count": 43,
   "metadata": {},
   "outputs": [
    {
     "name": "stdout",
     "output_type": "stream",
     "text": [
      "1/1 [==============================] - 0s 34ms/step\n",
      "Annotaion: banks had very few rules about loaning out money. \n",
      "Student Note: Seems like the banks should have done something sooner\n",
      "\n",
      "Inferred Feedback Phrases:  1)Good job!  2)Why?  3)Explain why this is important.\n"
     ]
    }
   ],
   "source": [
    "annotation = \"banks had very few rules about loaning out money.\" \n",
    "student_note = \"Seems like the banks should have done something sooner\"\n",
    "prediction = model.predict (  encode_text_for_bert2 ( [annotation + ' Student Note: ' + student_note] , tokenizer_for_bert, max_len=max_len) ) \n",
    "top3 = prediction.argsort(axis = 1)[:, -3:]\n",
    "pred_top = le.inverse_transform(top3[:, -1])\n",
    "pred_top_2nd = le.inverse_transform(top3[:, -2])\n",
    "pred_top_3rd = le.inverse_transform(top3[:, -3])\n",
    "\n",
    "print ('Annotaion:', annotation , '\\nStudent Note:', student_note)\n",
    "print(f'\\nInferred Feedback Phrases:  1){pred_top[0]}  2){pred_top_2nd[0]}  3){pred_top_3rd[0]}')"
   ]
  },
  {
   "cell_type": "code",
   "execution_count": 44,
   "metadata": {},
   "outputs": [
    {
     "name": "stdout",
     "output_type": "stream",
     "text": [
      "1/1 [==============================] - 0s 34ms/step\n",
      "Annotaion: night was dark. The wind blew. \n",
      "Student Note: there are 13 stanzas \n",
      "\n",
      "Inferred Feedback Phrases:  1)Good job!  2)Why?  3)Add more detail.\n"
     ]
    }
   ],
   "source": [
    "annotation = \"night was dark. The wind blew.\" \n",
    "student_note = \"there are 13 stanzas \"\n",
    "\n",
    "prediction = model.predict (  encode_text_for_bert2 ( [annotation + ' Student Note: ' + student_note] , tokenizer_for_bert, max_len=max_len) ) \n",
    "top3 = prediction.argsort(axis = 1)[:, -3:]\n",
    "pred_top = le.inverse_transform(top3[:, -1])\n",
    "pred_top_2nd = le.inverse_transform(top3[:, -2])\n",
    "pred_top_3rd = le.inverse_transform(top3[:, -3])\n",
    "\n",
    "print ('Annotaion:', annotation , '\\nStudent Note:', student_note)\n",
    "print(f'\\nInferred Feedback Phrases:  1){pred_top[0]}  2){pred_top_2nd[0]}  3){pred_top_3rd[0]}')"
   ]
  },
  {
   "cell_type": "code",
   "execution_count": 33,
   "metadata": {},
   "outputs": [
    {
     "name": "stdout",
     "output_type": "stream",
     "text": [
      "1/1 [==============================] - 0s 34ms/step\n",
      "Annotaion: He was heart-broken. \n",
      "Student Note: She is so caught up in trying to fit in she never realizes how she is hurting her husband.\n",
      "\n",
      "Inferred Feedback Phrases:  1)Add more detail.  2)Explain why this is important.  3)Why?\n"
     ]
    }
   ],
   "source": [
    "annotation = \"He was heart-broken.\" \n",
    "student_note = \"She is so caught up in trying to fit in she never realizes how she is hurting her husband.\"\n",
    "\n",
    "prediction = model.predict (  encode_text_for_bert2 ( [annotation + ' Student Note: ' + student_note] , tokenizer_for_bert, max_len=max_len) ) \n",
    "top3 = prediction.argsort(axis = 1)[:, -3:]\n",
    "pred_top = le.inverse_transform(top3[:, -1])\n",
    "pred_top_2nd = le.inverse_transform(top3[:, -2])\n",
    "pred_top_3rd = le.inverse_transform(top3[:, -3])\n",
    "\n",
    "print ('Annotaion:', annotation , '\\nStudent Note:', student_note)\n",
    "#print('\\nInferred Feedback Phrase: ', le.inverse_transform( np.argmax(prediction).reshape(-1, 1) )[0] )\n",
    "print(f'\\nInferred Feedback Phrases:  1){pred_top[0]}  2){pred_top_2nd[0]}  3){pred_top_3rd[0]}')"
   ]
  }
 ],
 "metadata": {
  "environment": {
   "name": "common-cu110.m87",
   "type": "gcloud",
   "uri": "gcr.io/deeplearning-platform-release/base-cu110:m87"
  },
  "kernelspec": {
   "display_name": "Python 3",
   "language": "python",
   "name": "python3"
  },
  "language_info": {
   "codemirror_mode": {
    "name": "ipython",
    "version": 3
   },
   "file_extension": ".py",
   "mimetype": "text/x-python",
   "name": "python",
   "nbconvert_exporter": "python",
   "pygments_lexer": "ipython3",
   "version": "3.7.12"
  }
 },
 "nbformat": 4,
 "nbformat_minor": 4
}
